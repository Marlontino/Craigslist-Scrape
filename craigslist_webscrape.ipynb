{
 "cells": [
  {
   "cell_type": "code",
   "execution_count": 27,
   "metadata": {},
   "outputs": [],
   "source": [
    "from bs4 import BeautifulSoup \n",
    "import requests"
   ]
  },
  {
   "cell_type": "code",
   "execution_count": 28,
   "metadata": {},
   "outputs": [],
   "source": [
    "url = \"https://sandiego.craigslist.org/d/cars-trucks/search/cta\""
   ]
  },
  {
   "cell_type": "code",
   "execution_count": 29,
   "metadata": {},
   "outputs": [],
   "source": [
    "# Opening up connection, grabbing page\n",
    "page = requests.get(url)\n",
    "\n",
    "# Html parsing\n",
    "soup = BeautifulSoup(page.content, \"html.parser\")\n",
    "\n",
    "# Grab each product\n",
    "containers = soup.findAll(\"li\",{\"class\": \"result-row\"})\n",
    "\n"
   ]
  },
  {
   "cell_type": "code",
   "execution_count": 33,
   "metadata": {},
   "outputs": [
    {
     "data": {
      "text/plain": [
       "120"
      ]
     },
     "execution_count": 33,
     "metadata": {},
     "output_type": "execute_result"
    }
   ],
   "source": [
    "len(containers)"
   ]
  },
  {
   "cell_type": "code",
   "execution_count": 34,
   "metadata": {},
   "outputs": [
    {
     "name": "stdout",
     "output_type": "stream",
     "text": [
      "<li class=\"result-row\" data-pid=\"7486389225\" data-repost-of=\"7483454014\">\n",
      "<a class=\"result-image gallery\" data-ids=\"3:00808_931t43pxn9ez_0x20oM,3:01212_1wgFvrOXOMhz_0x20oM,3:00e0e_4UgApO1dlwyz_0x20oM,3:00l0l_3pjpHHxJiUVz_0x20oM,3:00U0U_g3tUQuq6vJiz_0x20oM,3:00N0N_dsdNA5350vCz_0x20oM,3:01111_betf0Uyfpsoz_0x20oM,3:00i0i_g5fJkh1PTWqz_0x20oM,3:00k0k_gurCDewp1Qcz_0x20oM,3:01111_aCUm599sC0fz_0x20oM,3:00707_dGJUr4GuQS0z_0x20oM,3:00y0y_bHP4WREy80ez_0x20oM,3:00t0t_bE5Gaz7z7sfz_0x20oM,3:00G0G_8evP5kKOddVz_0x20oM,3:00V0V_hiFYzegebbjz_0x20oM,3:00808_4YrFG9H5h9kz_0x20oM,3:00M0M_cCzCSrbI2Axz_0x20oM,3:00a0a_lEcbgR5pYWez_0x20oM,3:01414_k35FnSghuVkz_0x20oM,3:00r0r_hgjkgYqjuQHz_0x20oM\" href=\"https://sandiego.craigslist.org/csd/ctd/d/san-diego-2007-ford-150-xlt-super-crew/7486389225.html\">\n",
      "<span class=\"result-price\">$10,495</span>\n",
      "</a>\n",
      "<div class=\"result-info\">\n",
      "<span class=\"icon icon-star\" role=\"button\">\n",
      "<span class=\"screen-reader-text\">favorite this post</span>\n",
      "</span>\n",
      "<time class=\"result-date\" datetime=\"2022-05-20 22:41\" title=\"Fri 20 May 10:41:45 PM\">May 20</time>\n",
      "<h3 class=\"result-heading\">\n",
      "<a class=\"result-title hdrlnk\" data-id=\"7486389225\" href=\"https://sandiego.craigslist.org/csd/ctd/d/san-diego-2007-ford-150-xlt-super-crew/7486389225.html\" id=\"postid_7486389225\">2007 Ford F-150 XLT Super Crew cab Clean Title *Finance Available</a>\n",
      "</h3>\n",
      "<span class=\"result-meta\">\n",
      "<span class=\"result-price\">$10,495</span>\n",
      "<span class=\"result-hood\"> (San Diego)</span>\n",
      "<span class=\"result-tags\">\n",
      "<span class=\"pictag\">pic</span>\n",
      "</span>\n",
      "<span class=\"banish icon icon-trash\" role=\"button\">\n",
      "<span class=\"screen-reader-text\">hide this posting</span>\n",
      "</span>\n",
      "<span aria-hidden=\"true\" class=\"unbanish icon icon-trash red\" role=\"button\"></span>\n",
      "<a class=\"restore-link\" href=\"#\">\n",
      "<span class=\"restore-narrow-text\">restore</span>\n",
      "<span class=\"restore-wide-text\">restore this posting</span>\n",
      "</a>\n",
      "</span>\n",
      "</div>\n",
      "</li>\n"
     ]
    }
   ],
   "source": [
    "print(containers[0])"
   ]
  },
  {
   "cell_type": "code",
   "execution_count": 35,
   "metadata": {
    "scrolled": true
   },
   "outputs": [
    {
     "name": "stdout",
     "output_type": "stream",
     "text": [
      "2007 Ford F-150 XLT Super Crew cab Clean Title *Finance Available\n",
      "$10,495\n",
      "\n",
      "2016 Ford Explorer EXTRA CLEAN, EQ W REAR CAM!!\n",
      "$23,900\n",
      "\n",
      "2011 Honda Odyssey EX MODEL, LEATHER INT, AUTO SIDE DOORS.!!\n",
      "$13,900\n",
      "\n",
      "2019 Ford Ranger ONLY 44K MILES!!!\n",
      "$33,900\n",
      "\n",
      "2017 Toyota Sienna XLE MODEL, SUNROOF, LEATHER, REAR CAM, ONLY 30K MI\n",
      "$24,900\n",
      "\n",
      "2015 Toyota Tacoma Access Cab I4 4AT 2WD\n",
      "$17,900\n",
      "\n",
      "2013 Acura ILX 5-Spd AT w/ Premium Package\n",
      "$13,900\n",
      "\n",
      "2013 Honda Accord ONLY 59K MILES!!!\n",
      "$18,900\n",
      "\n",
      "2011 Jeep Patriot ONLY 75K MILES!!!\n",
      "$10,900\n",
      "\n",
      "2013 Ford Escape EQ W TOW PACKAGE AND ROOF RACK!!\n",
      "$13,900\n",
      "\n",
      "2014 Mercedes-Benz CLA-Class LEATHER INT., ONLY 80K MILES!!!\n",
      "$18,900\n",
      "\n",
      "2018 Hyundai Tucson SEL Plus\n",
      "$16,900\n",
      "\n",
      "2018 Chevrolet Colorado 2WD, REAR CAM, EXT CAB.\n",
      "$18,900\n",
      "\n",
      "2010 Mercedes-Benz E-Class ONLY 80K MILES!!!\n",
      "$16,900\n",
      "\n",
      "2012 Jeep Grand Cherokee Laredo 2WD\n",
      "$14,900\n",
      "\n"
     ]
    }
   ],
   "source": [
    "# Grab the first 15 containers\n",
    "for container in containers[:15]:\n",
    "    # Grab data from html\n",
    "    car = container.div.a.text\n",
    "    price = container.a.span.text\n",
    "    print(car)\n",
    "    print(price+'\\n')"
   ]
  },
  {
   "cell_type": "code",
   "execution_count": 36,
   "metadata": {},
   "outputs": [],
   "source": [
    "def numerize(price):\n",
    "    # Change car price txt to ints\n",
    "    number = list(price)\n",
    "\n",
    "    try:\n",
    "        number.remove(',')\n",
    "        number.remove('$')\n",
    "        return int(''.join(number))\n",
    "    except (ValueError):\n",
    "        return 0"
   ]
  },
  {
   "cell_type": "code",
   "execution_count": 55,
   "metadata": {},
   "outputs": [
    {
     "name": "stdout",
     "output_type": "stream",
     "text": [
      "10495\n"
     ]
    }
   ],
   "source": [
    "dict = {}\n",
    "cars = []\n",
    "prices = []\n",
    "for container in containers:\n",
    "    car = container.div.a.text\n",
    "    cars.append(car)\n",
    "    price = numerize(container.a.span.text)\n",
    "    prices.append(price)\n",
    "\n",
    "dict['Car'] = cars\n",
    "dict['Price'] = prices\n",
    "print(dict['Price'][0])"
   ]
  },
  {
   "cell_type": "code",
   "execution_count": 56,
   "metadata": {},
   "outputs": [],
   "source": [
    "import pandas as pd\n",
    "import numpy as np"
   ]
  },
  {
   "cell_type": "code",
   "execution_count": 57,
   "metadata": {},
   "outputs": [],
   "source": [
    "df = pd.DataFrame(dict)"
   ]
  },
  {
   "cell_type": "code",
   "execution_count": 58,
   "metadata": {},
   "outputs": [
    {
     "data": {
      "text/html": [
       "<div>\n",
       "<style scoped>\n",
       "    .dataframe tbody tr th:only-of-type {\n",
       "        vertical-align: middle;\n",
       "    }\n",
       "\n",
       "    .dataframe tbody tr th {\n",
       "        vertical-align: top;\n",
       "    }\n",
       "\n",
       "    .dataframe thead th {\n",
       "        text-align: right;\n",
       "    }\n",
       "</style>\n",
       "<table border=\"1\" class=\"dataframe\">\n",
       "  <thead>\n",
       "    <tr style=\"text-align: right;\">\n",
       "      <th></th>\n",
       "      <th>Car</th>\n",
       "      <th>Price</th>\n",
       "    </tr>\n",
       "  </thead>\n",
       "  <tbody>\n",
       "    <tr>\n",
       "      <th>0</th>\n",
       "      <td>2007 Ford F-150 XLT Super Crew cab Clean Title...</td>\n",
       "      <td>10495</td>\n",
       "    </tr>\n",
       "    <tr>\n",
       "      <th>1</th>\n",
       "      <td>2016 Ford Explorer EXTRA CLEAN, EQ W REAR CAM!!</td>\n",
       "      <td>23900</td>\n",
       "    </tr>\n",
       "    <tr>\n",
       "      <th>2</th>\n",
       "      <td>2011 Honda Odyssey EX MODEL, LEATHER INT, AUTO...</td>\n",
       "      <td>13900</td>\n",
       "    </tr>\n",
       "    <tr>\n",
       "      <th>3</th>\n",
       "      <td>2019 Ford Ranger ONLY 44K MILES!!!</td>\n",
       "      <td>33900</td>\n",
       "    </tr>\n",
       "    <tr>\n",
       "      <th>4</th>\n",
       "      <td>2017 Toyota Sienna XLE MODEL, SUNROOF, LEATHER...</td>\n",
       "      <td>24900</td>\n",
       "    </tr>\n",
       "    <tr>\n",
       "      <th>...</th>\n",
       "      <td>...</td>\n",
       "      <td>...</td>\n",
       "    </tr>\n",
       "    <tr>\n",
       "      <th>115</th>\n",
       "      <td>2017 Honda Fit SUNROOF, REAR CAM, AND PUSH TO ...</td>\n",
       "      <td>13900</td>\n",
       "    </tr>\n",
       "    <tr>\n",
       "      <th>116</th>\n",
       "      <td>2012 Jeep Wrangler Unlimited 4WD 4dr Sahara</td>\n",
       "      <td>29900</td>\n",
       "    </tr>\n",
       "    <tr>\n",
       "      <th>117</th>\n",
       "      <td>2006 Scion xA ONLY 56K MILES!!!</td>\n",
       "      <td>12900</td>\n",
       "    </tr>\n",
       "    <tr>\n",
       "      <th>118</th>\n",
       "      <td>2018 Ford Super Duty F-250 Super Duty 4x4, Eq ...</td>\n",
       "      <td>34900</td>\n",
       "    </tr>\n",
       "    <tr>\n",
       "      <th>119</th>\n",
       "      <td>2005 Honda Pilot EX-L MODEL, LEATHER INT, ONLY...</td>\n",
       "      <td>12900</td>\n",
       "    </tr>\n",
       "  </tbody>\n",
       "</table>\n",
       "<p>120 rows × 2 columns</p>\n",
       "</div>"
      ],
      "text/plain": [
       "                                                   Car  Price\n",
       "0    2007 Ford F-150 XLT Super Crew cab Clean Title...  10495\n",
       "1      2016 Ford Explorer EXTRA CLEAN, EQ W REAR CAM!!  23900\n",
       "2    2011 Honda Odyssey EX MODEL, LEATHER INT, AUTO...  13900\n",
       "3                   2019 Ford Ranger ONLY 44K MILES!!!  33900\n",
       "4    2017 Toyota Sienna XLE MODEL, SUNROOF, LEATHER...  24900\n",
       "..                                                 ...    ...\n",
       "115  2017 Honda Fit SUNROOF, REAR CAM, AND PUSH TO ...  13900\n",
       "116        2012 Jeep Wrangler Unlimited 4WD 4dr Sahara  29900\n",
       "117                    2006 Scion xA ONLY 56K MILES!!!  12900\n",
       "118  2018 Ford Super Duty F-250 Super Duty 4x4, Eq ...  34900\n",
       "119  2005 Honda Pilot EX-L MODEL, LEATHER INT, ONLY...  12900\n",
       "\n",
       "[120 rows x 2 columns]"
      ]
     },
     "execution_count": 58,
     "metadata": {},
     "output_type": "execute_result"
    }
   ],
   "source": [
    "df"
   ]
  },
  {
   "cell_type": "code",
   "execution_count": 59,
   "metadata": {},
   "outputs": [
    {
     "data": {
      "text/html": [
       "<div>\n",
       "<style scoped>\n",
       "    .dataframe tbody tr th:only-of-type {\n",
       "        vertical-align: middle;\n",
       "    }\n",
       "\n",
       "    .dataframe tbody tr th {\n",
       "        vertical-align: top;\n",
       "    }\n",
       "\n",
       "    .dataframe thead th {\n",
       "        text-align: right;\n",
       "    }\n",
       "</style>\n",
       "<table border=\"1\" class=\"dataframe\">\n",
       "  <thead>\n",
       "    <tr style=\"text-align: right;\">\n",
       "      <th></th>\n",
       "      <th>Price</th>\n",
       "    </tr>\n",
       "  </thead>\n",
       "  <tbody>\n",
       "    <tr>\n",
       "      <th>count</th>\n",
       "      <td>120.000000</td>\n",
       "    </tr>\n",
       "    <tr>\n",
       "      <th>mean</th>\n",
       "      <td>20729.958333</td>\n",
       "    </tr>\n",
       "    <tr>\n",
       "      <th>std</th>\n",
       "      <td>10207.426167</td>\n",
       "    </tr>\n",
       "    <tr>\n",
       "      <th>min</th>\n",
       "      <td>7900.000000</td>\n",
       "    </tr>\n",
       "    <tr>\n",
       "      <th>25%</th>\n",
       "      <td>12900.000000</td>\n",
       "    </tr>\n",
       "    <tr>\n",
       "      <th>50%</th>\n",
       "      <td>17900.000000</td>\n",
       "    </tr>\n",
       "    <tr>\n",
       "      <th>75%</th>\n",
       "      <td>25150.000000</td>\n",
       "    </tr>\n",
       "    <tr>\n",
       "      <th>max</th>\n",
       "      <td>68900.000000</td>\n",
       "    </tr>\n",
       "  </tbody>\n",
       "</table>\n",
       "</div>"
      ],
      "text/plain": [
       "              Price\n",
       "count    120.000000\n",
       "mean   20729.958333\n",
       "std    10207.426167\n",
       "min     7900.000000\n",
       "25%    12900.000000\n",
       "50%    17900.000000\n",
       "75%    25150.000000\n",
       "max    68900.000000"
      ]
     },
     "execution_count": 59,
     "metadata": {},
     "output_type": "execute_result"
    }
   ],
   "source": [
    "df.describe()"
   ]
  },
  {
   "cell_type": "code",
   "execution_count": 60,
   "metadata": {},
   "outputs": [],
   "source": [
    "# Get rid of all cars with no price\n",
    "df = df.replace(0, np.nan)\n",
    "df2 = df.dropna(subset=['Price'])"
   ]
  },
  {
   "cell_type": "code",
   "execution_count": 43,
   "metadata": {},
   "outputs": [
    {
     "data": {
      "text/plain": [
       "50"
      ]
     },
     "execution_count": 43,
     "metadata": {},
     "output_type": "execute_result"
    }
   ],
   "source": [
    "len(df2)"
   ]
  },
  {
   "cell_type": "code",
   "execution_count": 44,
   "metadata": {},
   "outputs": [
    {
     "data": {
      "text/html": [
       "<div>\n",
       "<style scoped>\n",
       "    .dataframe tbody tr th:only-of-type {\n",
       "        vertical-align: middle;\n",
       "    }\n",
       "\n",
       "    .dataframe tbody tr th {\n",
       "        vertical-align: top;\n",
       "    }\n",
       "\n",
       "    .dataframe thead th {\n",
       "        text-align: right;\n",
       "    }\n",
       "</style>\n",
       "<table border=\"1\" class=\"dataframe\">\n",
       "  <thead>\n",
       "    <tr style=\"text-align: right;\">\n",
       "      <th></th>\n",
       "      <th>Price</th>\n",
       "    </tr>\n",
       "  </thead>\n",
       "  <tbody>\n",
       "    <tr>\n",
       "      <th>count</th>\n",
       "      <td>50.000000</td>\n",
       "    </tr>\n",
       "    <tr>\n",
       "      <th>mean</th>\n",
       "      <td>21711.900000</td>\n",
       "    </tr>\n",
       "    <tr>\n",
       "      <th>std</th>\n",
       "      <td>11885.770042</td>\n",
       "    </tr>\n",
       "    <tr>\n",
       "      <th>min</th>\n",
       "      <td>7900.000000</td>\n",
       "    </tr>\n",
       "    <tr>\n",
       "      <th>25%</th>\n",
       "      <td>13900.000000</td>\n",
       "    </tr>\n",
       "    <tr>\n",
       "      <th>50%</th>\n",
       "      <td>18900.000000</td>\n",
       "    </tr>\n",
       "    <tr>\n",
       "      <th>75%</th>\n",
       "      <td>23900.000000</td>\n",
       "    </tr>\n",
       "    <tr>\n",
       "      <th>max</th>\n",
       "      <td>68900.000000</td>\n",
       "    </tr>\n",
       "  </tbody>\n",
       "</table>\n",
       "</div>"
      ],
      "text/plain": [
       "              Price\n",
       "count     50.000000\n",
       "mean   21711.900000\n",
       "std    11885.770042\n",
       "min     7900.000000\n",
       "25%    13900.000000\n",
       "50%    18900.000000\n",
       "75%    23900.000000\n",
       "max    68900.000000"
      ]
     },
     "execution_count": 44,
     "metadata": {},
     "output_type": "execute_result"
    }
   ],
   "source": [
    "df2.describe()"
   ]
  }
 ],
 "metadata": {
  "kernelspec": {
   "display_name": "Python 3 (ipykernel)",
   "language": "python",
   "name": "python3"
  },
  "language_info": {
   "codemirror_mode": {
    "name": "ipython",
    "version": 3
   },
   "file_extension": ".py",
   "mimetype": "text/x-python",
   "name": "python",
   "nbconvert_exporter": "python",
   "pygments_lexer": "ipython3",
   "version": "3.9.7"
  }
 },
 "nbformat": 4,
 "nbformat_minor": 4
}
